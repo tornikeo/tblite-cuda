{
 "cells": [
  {
   "cell_type": "code",
   "execution_count": 1,
   "id": "3279c458",
   "metadata": {},
   "outputs": [],
   "source": [
    "import numpy as np\n",
    "import scipy"
   ]
  },
  {
   "cell_type": "code",
   "execution_count": 10,
   "id": "13865df3",
   "metadata": {},
   "outputs": [
    {
     "name": "stdout",
     "output_type": "stream",
     "text": [
      "Eigenvalues: [2. 2.]\n",
      "Eigenvectors: [[ 0.70710678 -0.21320072]\n",
      " [ 0.          0.85280287]]\n"
     ]
    }
   ],
   "source": [
    "from scipy.linalg import eigh\n",
    "\n",
    "# Example matrices\n",
    "A = np.array([\n",
    "  [4, 1], \n",
    "  [1, 3]]\n",
    ")\n",
    "B = np.array([\n",
    "  [2, .5], \n",
    "  [0.5, 1.5]])\n",
    "\n",
    "# Solve the generalized eigenvalue problem\n",
    "eigenvalues, eigenvectors = eigh(A, B, lower=False, type=1)\n",
    "\n",
    "print(\"Eigenvalues:\", eigenvalues)\n",
    "print(\"Eigenvectors:\", eigenvectors)"
   ]
  },
  {
   "cell_type": "code",
   "execution_count": 14,
   "id": "3ef9cd78",
   "metadata": {},
   "outputs": [
    {
     "data": {
      "text/plain": [
       "array([[ 4.44089210e-16, -2.22044605e-16],\n",
       "       [ 1.11022302e-16,  0.00000000e+00]])"
      ]
     },
     "execution_count": 14,
     "metadata": {},
     "output_type": "execute_result"
    }
   ],
   "source": [
    "A @ eigenvectors - eigenvalues * B @ eigenvectors"
   ]
  },
  {
   "cell_type": "code",
   "execution_count": 23,
   "id": "baa478a0",
   "metadata": {},
   "outputs": [
    {
     "name": "stdout",
     "output_type": "stream",
     "text": [
      "Original A:\n",
      "[[4. 1.]\n",
      " [1. 3.]]\n",
      "\n",
      "Original B:\n",
      "[[2.  0.5]\n",
      " [0.5 1.5]]\n",
      "\n",
      "Cholesky factor U (B = Uᵀ * U):\n",
      "[[1.41421356 0.35355339]\n",
      " [0.         1.17260394]]\n",
      "\n",
      "Transformed matrix C (C = inv(U) * A * inv(Uᵀ)):\n",
      "[[8.72727273 4.18181818]\n",
      " [4.18181818 7.04545455]]\n",
      "\n",
      "Symmetry check for C (C - C.T):\n",
      "[[0. 0.]\n",
      " [0. 0.]]\n",
      "\n",
      "Eigenvalues of C:\n",
      "[ 3.62083537 12.1518919 ]\n",
      "\n",
      "Eigenvectors of C:\n",
      "[[ 0.63358477 -0.77367327]\n",
      " [-0.77367327 -0.63358477]]\n",
      "\n",
      "Backtransformed eigenvectors (original problem):\n",
      "[[ 0.49100774 -0.82455886]\n",
      " [-0.87115521 -0.56577618]]\n",
      "\n",
      "Orthonormality check for backtransformed eigenvectors (Xᵀ * X):\n",
      "[[1.         0.08801408]\n",
      " [0.08801408 1.        ]]\n",
      "\n",
      "Corrected Eigenvalues (original problem):\n",
      "[1.81041768 8.83773957]\n",
      "\n",
      "SciPy Eigenvalues:\n",
      "[2. 2.]\n",
      "\n",
      "SciPy Eigenvectors:\n",
      "[[ 0.70710678 -0.21320072]\n",
      " [ 0.          0.85280287]]\n"
     ]
    }
   ],
   "source": [
    "import numpy as np\n",
    "from scipy.linalg import cholesky, solve_triangular, eigh\n",
    "\n",
    "# Input matrices\n",
    "A = np.array([[4.0, 1.0],\n",
    "              [1.0, 3.0]])\n",
    "B = np.array([[2.0, 0.5],\n",
    "              [0.5, 1.5]])\n",
    "\n",
    "print(\"Original A:\")\n",
    "print(A)\n",
    "print(\"\\nOriginal B:\")\n",
    "print(B)\n",
    "\n",
    "# Step 1: Cholesky factorization of B\n",
    "U = cholesky(B, lower=False)  # Upper triangular Cholesky factor\n",
    "print(\"\\nCholesky factor U (B = Uᵀ * U):\")\n",
    "print(U)\n",
    "\n",
    "# Step 2: Transform A into the standard eigenvalue problem\n",
    "C = np.zeros_like(A)\n",
    "for i in range(A.shape[0]):\n",
    "    for j in range(i, A.shape[1]):  # Only compute upper triangular part\n",
    "        sum_ij = 0.0\n",
    "        for k in range(A.shape[0]):\n",
    "            sum_ij += A[i, k] / U[k, k] / U[k, k] * A[j, k]\n",
    "        C[i, j] = sum_ij\n",
    "        C[j, i] = sum_ij  # Enforce symmetry\n",
    "print(\"\\nTransformed matrix C (C = inv(U) * A * inv(Uᵀ)):\")\n",
    "print(C)\n",
    "\n",
    "# Symmetry check for C\n",
    "print(\"\\nSymmetry check for C (C - C.T):\")\n",
    "print(C - C.T)\n",
    "\n",
    "# Step 3: Compute eigenvalues and eigenvectors of C\n",
    "w, Y = eigh(C)\n",
    "print(\"\\nEigenvalues of C:\")\n",
    "print(w)\n",
    "print(\"\\nEigenvectors of C:\")\n",
    "print(Y)\n",
    "\n",
    "# Step 4: Backtransform eigenvectors to the original problem\n",
    "X = solve_triangular(U, Y, lower=False, trans='T', overwrite_b=False)\n",
    "for i in range(X.shape[1]):\n",
    "    norm = np.linalg.norm(X[:, i])\n",
    "    X[:, i] /= norm\n",
    "print(\"\\nBacktransformed eigenvectors (original problem):\")\n",
    "print(X)\n",
    "\n",
    "# Orthonormality check\n",
    "print(\"\\nOrthonormality check for backtransformed eigenvectors (Xᵀ * X):\")\n",
    "print(np.dot(X.T, X))\n",
    "\n",
    "# Correct the eigenvalues\n",
    "w_corrected = w / np.diag(U) ** 2\n",
    "print(\"\\nCorrected Eigenvalues (original problem):\")\n",
    "print(w_corrected)\n",
    "\n",
    "# Compare with SciPy's generalized eigenvalue solver\n",
    "w_scipy, v_scipy = eigh(A, B)\n",
    "print(\"\\nSciPy Eigenvalues:\")\n",
    "print(w_scipy)\n",
    "print(\"\\nSciPy Eigenvectors:\")\n",
    "print(v_scipy)"
   ]
  },
  {
   "cell_type": "code",
   "execution_count": 29,
   "id": "08190a77",
   "metadata": {},
   "outputs": [],
   "source": [
    "def forward_substitution(L, b):\n",
    "    \"\"\"Solve L x = b for x (L is lower triangular).\"\"\"\n",
    "    n = L.shape[0]\n",
    "    x = np.zeros_like(b)\n",
    "    for i in range(n):\n",
    "        x[i] = (b[i] - np.dot(L[i, :i], x[:i])) / L[i, i]\n",
    "    return x\n",
    "\n",
    "def backward_substitution(U, b):\n",
    "    \"\"\"Solve U x = b for x (U is upper triangular).\"\"\"\n",
    "    n = U.shape[0]\n",
    "    x = np.zeros_like(b)\n",
    "    for i in reversed(range(n)):\n",
    "        x[i] = (b[i] - np.dot(U[i, i+1:], x[i+1:])) / U[i, i]\n",
    "    return x\n",
    "\n",
    "def mat_mult_loops(A, B):\n",
    "    \"\"\"Basic matrix multiplication A @ B using loops.\"\"\"\n",
    "    n, m = A.shape\n",
    "    m2 = B.shape[1]\n",
    "    result = np.zeros((n, m2))\n",
    "    for i in range(n):\n",
    "        for j in range(m2):\n",
    "            for k in range(m):\n",
    "                result[i, j] += A[i, k] * B[k, j]\n",
    "    return result\n",
    "\n",
    "def sygv_numpy_expanded(A, B):\n",
    "    \"\"\"\n",
    "    Tutorial-style: Solve A x = λ B x using low-level linear algebra.\n",
    "    \"\"\"\n",
    "    n = A.shape[0]\n",
    "    \n",
    "    # Step 1: Cholesky factorization B = L L^T\n",
    "    L = np.linalg.cholesky(B)\n",
    "\n",
    "    # Step 2: Solve L Y = A for Y => column by column\n",
    "    Y = np.zeros_like(A)\n",
    "    for j in range(n):\n",
    "        Y[:, j] = forward_substitution(L, A[:, j])\n",
    "    \n",
    "    # Step 3: Solve L^T C^T = Y^T to get C^T => again, column by column\n",
    "    C_T = np.zeros_like(A)\n",
    "    for j in range(n):\n",
    "        C_T[:, j] = backward_substitution(L.T, Y.T[:, j])\n",
    "    C = C_T.T\n",
    "\n",
    "    # Step 4: Solve standard eigenproblem C y = λ y\n",
    "    w, y = np.linalg.eigh(C)\n",
    "\n",
    "    # Step 5: Backsolve to get original eigenvectors: L^T x = y => x = (L^T)^{-1} y\n",
    "    x = np.zeros_like(y)\n",
    "    for j in range(n):\n",
    "        x[:, j] = backward_substitution(L.T, y[:, j])\n",
    "\n",
    "    return w, x\n"
   ]
  },
  {
   "cell_type": "code",
   "execution_count": 36,
   "id": "64587f2b",
   "metadata": {},
   "outputs": [],
   "source": [
    "import numpy as np\n",
    "\n",
    "def forward_substitution(L, b):\n",
    "    \"\"\"Solve L x = b for x where L is lower-triangular.\"\"\"\n",
    "    n = L.shape[0]\n",
    "    x = np.zeros_like(b)\n",
    "    for i in range(n):\n",
    "        s = 0.0\n",
    "        for j in range(i):\n",
    "            s += L[i, j] * x[j]\n",
    "        x[i] = (b[i] - s) / L[i, i]\n",
    "    return x\n",
    "\n",
    "def backward_substitution(U, b):\n",
    "    \"\"\"Solve U x = b for x where U is upper-triangular.\"\"\"\n",
    "    n = U.shape[0]\n",
    "    x = np.zeros_like(b)\n",
    "    for i in reversed(range(n)):\n",
    "        s = 0.0\n",
    "        for j in range(i + 1, n):\n",
    "            s += U[i, j] * x[j]\n",
    "        x[i] = (b[i] - s) / U[i, i]\n",
    "    return x\n",
    "\n",
    "def sygv_numpy_expanded_correct(A, B):\n",
    "    \"\"\"\n",
    "    Tutorial-style generalized eigenvalue solver using low-level operations.\n",
    "    Solves A x = λ B x.\n",
    "    \"\"\"\n",
    "    n = A.shape[0]\n",
    "\n",
    "    # Step 1: Cholesky decomposition: B = L L^T\n",
    "    L = np.linalg.cholesky(B)\n",
    "\n",
    "    # Step 2: Compute Y = L^{-1} A using forward substitution (column-by-column)\n",
    "    Y = np.zeros_like(A)\n",
    "    for j in range(n):\n",
    "        Y[:, j] = forward_substitution(L, A[:, j])\n",
    "\n",
    "    # Step 3: Compute C = Y @ L^{-T} = (solve L^T, each row of Y.T).T\n",
    "    C = np.zeros_like(A)\n",
    "    for j in range(n):\n",
    "        C[j, :] = backward_substitution(L.T, Y[j, :])\n",
    "\n",
    "    # Step 4: Solve the standard symmetric eigenproblem: C y = λ y\n",
    "    w, y = np.linalg.eigh(C)\n",
    "\n",
    "    # Step 5: Recover original eigenvectors x = L^{-T} y\n",
    "    x = np.zeros_like(y)\n",
    "    for j in range(n):\n",
    "        x[:, j] = backward_substitution(L.T, y[:, j])\n",
    "\n",
    "    return w, x\n"
   ]
  },
  {
   "cell_type": "code",
   "execution_count": 37,
   "id": "033db715",
   "metadata": {},
   "outputs": [
    {
     "name": "stdout",
     "output_type": "stream",
     "text": [
      "Eigenvalues: [0.39780511 2.05674035]\n",
      "Eigenvectors:\n",
      " [[ 0.456727   -0.25323451]\n",
      " [-0.43220362 -0.4205192 ]]\n"
     ]
    }
   ],
   "source": [
    "# Example\n",
    "A = np.array([[5, 4], [4, 5]], dtype=float)\n",
    "B = np.array([[4, 1], [1, 3]], dtype=float)\n",
    "\n",
    "w, v = sygv_numpy(A, B)\n",
    "\n",
    "print(\"Eigenvalues:\", w)\n",
    "print(\"Eigenvectors:\\n\", v)\n"
   ]
  },
  {
   "cell_type": "code",
   "execution_count": 39,
   "id": "6761dcb8",
   "metadata": {},
   "outputs": [
    {
     "name": "stdout",
     "output_type": "stream",
     "text": [
      "Eigenvalues: [0.67167549 1.73135862]\n",
      "Eigenvectors:\n",
      " [[-0.50681194  0.12597193]\n",
      " [ 0.30820453  0.51831104]]\n"
     ]
    }
   ],
   "source": [
    "# Example\n",
    "A = np.array([[5, 4], [4, 5]], dtype=float)\n",
    "B = np.array([[4, 1], [1, 3]], dtype=float)\n",
    "\n",
    "w, v = sygv_numpy_expanded_correct(A, B)\n",
    "\n",
    "print(\"Eigenvalues:\", w)\n",
    "print(\"Eigenvectors:\\n\", v)"
   ]
  },
  {
   "cell_type": "code",
   "execution_count": 26,
   "id": "1dba9b75",
   "metadata": {},
   "outputs": [
    {
     "data": {
      "text/plain": [
       "(array([0.39780511, 2.05674035]),\n",
       " array([[ 0.456727  , -0.25323451],\n",
       "        [-0.43220362, -0.4205192 ]]))"
      ]
     },
     "execution_count": 26,
     "metadata": {},
     "output_type": "execute_result"
    }
   ],
   "source": [
    "import scipy.linalg\n",
    "\n",
    "\n",
    "scipy.linalg.eigh(A, B)"
   ]
  },
  {
   "cell_type": "code",
   "execution_count": 17,
   "id": "990df865",
   "metadata": {},
   "outputs": [
    {
     "data": {
      "text/plain": [
       "(array([[-1.39619104,  2.37009124],\n",
       "        [ 1.64255462,  1.96265783]]),\n",
       " array([[-0.47920744,  1.86337709],\n",
       "        [ 2.40190304,  2.20066656]]))"
      ]
     },
     "execution_count": 17,
     "metadata": {},
     "output_type": "execute_result"
    }
   ],
   "source": [
    "A @ X, w * B @ X"
   ]
  }
 ],
 "metadata": {
  "kernelspec": {
   "display_name": "Python 3",
   "language": "python",
   "name": "python3"
  },
  "language_info": {
   "codemirror_mode": {
    "name": "ipython",
    "version": 3
   },
   "file_extension": ".py",
   "mimetype": "text/x-python",
   "name": "python",
   "nbconvert_exporter": "python",
   "pygments_lexer": "ipython3",
   "version": "3.10.16"
  }
 },
 "nbformat": 4,
 "nbformat_minor": 5
}
